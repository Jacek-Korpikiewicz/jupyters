{
 "cells": [
  {
   "cell_type": "code",
   "execution_count": 9,
   "id": "7c68cb58",
   "metadata": {},
   "outputs": [],
   "source": [
    "import pandas as pd\n",
    "import matplotlib.pyplot as plt\n",
    "import plotly.graph_objs as go\n",
    "from plotly.subplots import make_subplots"
   ]
  },
  {
   "cell_type": "code",
   "execution_count": 3,
   "id": "d7dacae5",
   "metadata": {},
   "outputs": [
    {
     "data": {
      "text/html": [
       "<div>\n",
       "<style scoped>\n",
       "    .dataframe tbody tr th:only-of-type {\n",
       "        vertical-align: middle;\n",
       "    }\n",
       "\n",
       "    .dataframe tbody tr th {\n",
       "        vertical-align: top;\n",
       "    }\n",
       "\n",
       "    .dataframe thead th {\n",
       "        text-align: right;\n",
       "    }\n",
       "</style>\n",
       "<table border=\"1\" class=\"dataframe\">\n",
       "  <thead>\n",
       "    <tr style=\"text-align: right;\">\n",
       "      <th></th>\n",
       "      <th>Timestamp</th>\n",
       "      <th>Kto ma ile lat? [Sodek]</th>\n",
       "      <th>Kto ma ile lat? [Skura]</th>\n",
       "      <th>Kto ma ile lat? [Loczek]</th>\n",
       "      <th>Kto ma ile lat? [Xerk]</th>\n",
       "      <th>Kto ma ile lat? [Cziker]</th>\n",
       "      <th>Kto ma ile lat? [Jędrek]</th>\n",
       "      <th>Kto ma ile lat? [Dominik]</th>\n",
       "      <th>Kto ma ile lat? [Michał K.]</th>\n",
       "      <th>Kto ma ile lat? [Franek]</th>\n",
       "      <th>...</th>\n",
       "      <th>Kto ma ile lat? [Wiśnia]</th>\n",
       "      <th>Kto ma ile lat? [Skisły]</th>\n",
       "      <th>Kto ma ile lat? [Jacek]</th>\n",
       "      <th>Kto ma ile lat? [Błażek]</th>\n",
       "      <th>Kto ma ile lat? [Lori]</th>\n",
       "      <th>Kto ma ile lat? [Tutajec]</th>\n",
       "      <th>Kto ma ile lat? [Jaszczu]</th>\n",
       "      <th>Kto ma ile lat? [Alan]</th>\n",
       "      <th>Kto ma ile lat? [Kajter]</th>\n",
       "      <th>Kto ma ile lat? [Emel]</th>\n",
       "    </tr>\n",
       "  </thead>\n",
       "  <tbody>\n",
       "    <tr>\n",
       "      <th>0</th>\n",
       "      <td>11/7/2023 16:08:50</td>\n",
       "      <td>30-35</td>\n",
       "      <td>26-27</td>\n",
       "      <td>28-30</td>\n",
       "      <td>28-30</td>\n",
       "      <td>21-23</td>\n",
       "      <td>28-30</td>\n",
       "      <td>28-30</td>\n",
       "      <td>26-27</td>\n",
       "      <td>28-30</td>\n",
       "      <td>...</td>\n",
       "      <td>28-30</td>\n",
       "      <td>36-40</td>\n",
       "      <td>30-35</td>\n",
       "      <td>30-35</td>\n",
       "      <td>36-40</td>\n",
       "      <td>30-35</td>\n",
       "      <td>28-30</td>\n",
       "      <td>36-40</td>\n",
       "      <td>21-23</td>\n",
       "      <td>28-30</td>\n",
       "    </tr>\n",
       "    <tr>\n",
       "      <th>1</th>\n",
       "      <td>11/7/2023 16:09:10</td>\n",
       "      <td>30-35</td>\n",
       "      <td>28-30</td>\n",
       "      <td>28-30</td>\n",
       "      <td>30-35</td>\n",
       "      <td>18-20</td>\n",
       "      <td>26-27</td>\n",
       "      <td>30-35</td>\n",
       "      <td>26-27</td>\n",
       "      <td>30-35</td>\n",
       "      <td>...</td>\n",
       "      <td>28-30</td>\n",
       "      <td>36-40</td>\n",
       "      <td>36-40</td>\n",
       "      <td>36-40</td>\n",
       "      <td>36-40</td>\n",
       "      <td>36-40</td>\n",
       "      <td>28-30</td>\n",
       "      <td>36-40</td>\n",
       "      <td>18-20</td>\n",
       "      <td>26-27</td>\n",
       "    </tr>\n",
       "    <tr>\n",
       "      <th>2</th>\n",
       "      <td>11/7/2023 16:09:50</td>\n",
       "      <td>30-35</td>\n",
       "      <td>26-27</td>\n",
       "      <td>28-30</td>\n",
       "      <td>28-30</td>\n",
       "      <td>18-20</td>\n",
       "      <td>24-25</td>\n",
       "      <td>26-27</td>\n",
       "      <td>21-23</td>\n",
       "      <td>26-27</td>\n",
       "      <td>...</td>\n",
       "      <td>26-27</td>\n",
       "      <td>30-35</td>\n",
       "      <td>30-35</td>\n",
       "      <td>30-35</td>\n",
       "      <td>30-35</td>\n",
       "      <td>28-30</td>\n",
       "      <td>26-27</td>\n",
       "      <td>36-40</td>\n",
       "      <td>18-20</td>\n",
       "      <td>26-27</td>\n",
       "    </tr>\n",
       "    <tr>\n",
       "      <th>3</th>\n",
       "      <td>11/7/2023 16:10:52</td>\n",
       "      <td>30-35</td>\n",
       "      <td>26-27</td>\n",
       "      <td>28-30</td>\n",
       "      <td>28-30</td>\n",
       "      <td>21-23</td>\n",
       "      <td>26-27</td>\n",
       "      <td>24-25</td>\n",
       "      <td>26-27</td>\n",
       "      <td>30-35</td>\n",
       "      <td>...</td>\n",
       "      <td>26-27</td>\n",
       "      <td>36-40</td>\n",
       "      <td>36-40</td>\n",
       "      <td>36-40</td>\n",
       "      <td>36-40</td>\n",
       "      <td>30-35</td>\n",
       "      <td>28-30</td>\n",
       "      <td>36-40</td>\n",
       "      <td>&lt;18</td>\n",
       "      <td>26-27</td>\n",
       "    </tr>\n",
       "    <tr>\n",
       "      <th>4</th>\n",
       "      <td>11/7/2023 16:11:09</td>\n",
       "      <td>30-35</td>\n",
       "      <td>26-27</td>\n",
       "      <td>28-30</td>\n",
       "      <td>28-30</td>\n",
       "      <td>21-23</td>\n",
       "      <td>26-27</td>\n",
       "      <td>26-27</td>\n",
       "      <td>&lt;18</td>\n",
       "      <td>30-35</td>\n",
       "      <td>...</td>\n",
       "      <td>26-27</td>\n",
       "      <td>36-40</td>\n",
       "      <td>36-40</td>\n",
       "      <td>30-35</td>\n",
       "      <td>36-40</td>\n",
       "      <td>36-40</td>\n",
       "      <td>30-35</td>\n",
       "      <td>36-40</td>\n",
       "      <td>&lt;18</td>\n",
       "      <td>26-27</td>\n",
       "    </tr>\n",
       "    <tr>\n",
       "      <th>5</th>\n",
       "      <td>11/7/2023 16:11:38</td>\n",
       "      <td>28-30</td>\n",
       "      <td>26-27</td>\n",
       "      <td>26-27</td>\n",
       "      <td>26-27</td>\n",
       "      <td>21-23</td>\n",
       "      <td>21-23</td>\n",
       "      <td>26-27</td>\n",
       "      <td>26-27</td>\n",
       "      <td>28-30</td>\n",
       "      <td>...</td>\n",
       "      <td>&lt;18</td>\n",
       "      <td>36-40</td>\n",
       "      <td>36-40</td>\n",
       "      <td>36-40</td>\n",
       "      <td>36-40</td>\n",
       "      <td>30-35</td>\n",
       "      <td>26-27</td>\n",
       "      <td>36-40</td>\n",
       "      <td>18-20</td>\n",
       "      <td>26-27</td>\n",
       "    </tr>\n",
       "    <tr>\n",
       "      <th>6</th>\n",
       "      <td>11/7/2023 16:12:25</td>\n",
       "      <td>30-35</td>\n",
       "      <td>26-27</td>\n",
       "      <td>28-30</td>\n",
       "      <td>28-30</td>\n",
       "      <td>18-20</td>\n",
       "      <td>26-27</td>\n",
       "      <td>26-27</td>\n",
       "      <td>24-25</td>\n",
       "      <td>28-30</td>\n",
       "      <td>...</td>\n",
       "      <td>26-27</td>\n",
       "      <td>30-35</td>\n",
       "      <td>30-35</td>\n",
       "      <td>36-40</td>\n",
       "      <td>30-35</td>\n",
       "      <td>30-35</td>\n",
       "      <td>28-30</td>\n",
       "      <td>36-40</td>\n",
       "      <td>18-20</td>\n",
       "      <td>26-27</td>\n",
       "    </tr>\n",
       "    <tr>\n",
       "      <th>7</th>\n",
       "      <td>11/7/2023 16:12:41</td>\n",
       "      <td>30-35</td>\n",
       "      <td>28-30</td>\n",
       "      <td>28-30</td>\n",
       "      <td>30-35</td>\n",
       "      <td>18-20</td>\n",
       "      <td>26-27</td>\n",
       "      <td>30-35</td>\n",
       "      <td>26-27</td>\n",
       "      <td>30-35</td>\n",
       "      <td>...</td>\n",
       "      <td>28-30</td>\n",
       "      <td>36-40</td>\n",
       "      <td>36-40</td>\n",
       "      <td>36-40</td>\n",
       "      <td>36-40</td>\n",
       "      <td>36-40</td>\n",
       "      <td>30-35</td>\n",
       "      <td>36-40</td>\n",
       "      <td>18-20</td>\n",
       "      <td>24-25</td>\n",
       "    </tr>\n",
       "    <tr>\n",
       "      <th>8</th>\n",
       "      <td>11/7/2023 16:12:49</td>\n",
       "      <td>30-35</td>\n",
       "      <td>26-27</td>\n",
       "      <td>28-30</td>\n",
       "      <td>28-30</td>\n",
       "      <td>21-23</td>\n",
       "      <td>28-30</td>\n",
       "      <td>28-30</td>\n",
       "      <td>26-27</td>\n",
       "      <td>28-30</td>\n",
       "      <td>...</td>\n",
       "      <td>28-30</td>\n",
       "      <td>36-40</td>\n",
       "      <td>30-35</td>\n",
       "      <td>30-35</td>\n",
       "      <td>36-40</td>\n",
       "      <td>30-35</td>\n",
       "      <td>26-27</td>\n",
       "      <td>36-40</td>\n",
       "      <td>21-23</td>\n",
       "      <td>26-27</td>\n",
       "    </tr>\n",
       "    <tr>\n",
       "      <th>9</th>\n",
       "      <td>11/7/2023 16:13:27</td>\n",
       "      <td>30-35</td>\n",
       "      <td>26-27</td>\n",
       "      <td>28-30</td>\n",
       "      <td>28-30</td>\n",
       "      <td>24-25</td>\n",
       "      <td>26-27</td>\n",
       "      <td>26-27</td>\n",
       "      <td>26-27</td>\n",
       "      <td>30-35</td>\n",
       "      <td>...</td>\n",
       "      <td>26-27</td>\n",
       "      <td>36-40</td>\n",
       "      <td>36-40</td>\n",
       "      <td>36-40</td>\n",
       "      <td>36-40</td>\n",
       "      <td>30-35</td>\n",
       "      <td>28-30</td>\n",
       "      <td>36-40</td>\n",
       "      <td>&lt;18</td>\n",
       "      <td>26-27</td>\n",
       "    </tr>\n",
       "    <tr>\n",
       "      <th>10</th>\n",
       "      <td>11/7/2023 16:13:56</td>\n",
       "      <td>30-35</td>\n",
       "      <td>26-27</td>\n",
       "      <td>26-27</td>\n",
       "      <td>28-30</td>\n",
       "      <td>21-23</td>\n",
       "      <td>24-25</td>\n",
       "      <td>26-27</td>\n",
       "      <td>24-25</td>\n",
       "      <td>28-30</td>\n",
       "      <td>...</td>\n",
       "      <td>30-35</td>\n",
       "      <td>30-35</td>\n",
       "      <td>30-35</td>\n",
       "      <td>30-35</td>\n",
       "      <td>30-35</td>\n",
       "      <td>30-35</td>\n",
       "      <td>26-27</td>\n",
       "      <td>36-40</td>\n",
       "      <td>18-20</td>\n",
       "      <td>26-27</td>\n",
       "    </tr>\n",
       "    <tr>\n",
       "      <th>11</th>\n",
       "      <td>11/7/2023 16:14:14</td>\n",
       "      <td>30-35</td>\n",
       "      <td>26-27</td>\n",
       "      <td>28-30</td>\n",
       "      <td>30-35</td>\n",
       "      <td>18-20</td>\n",
       "      <td>24-25</td>\n",
       "      <td>26-27</td>\n",
       "      <td>24-25</td>\n",
       "      <td>30-35</td>\n",
       "      <td>...</td>\n",
       "      <td>26-27</td>\n",
       "      <td>36-40</td>\n",
       "      <td>30-35</td>\n",
       "      <td>36-40</td>\n",
       "      <td>30-35</td>\n",
       "      <td>28-30</td>\n",
       "      <td>26-27</td>\n",
       "      <td>30-35</td>\n",
       "      <td>18-20</td>\n",
       "      <td>26-27</td>\n",
       "    </tr>\n",
       "    <tr>\n",
       "      <th>12</th>\n",
       "      <td>11/7/2023 16:15:04</td>\n",
       "      <td>30-35</td>\n",
       "      <td>26-27</td>\n",
       "      <td>28-30</td>\n",
       "      <td>28-30</td>\n",
       "      <td>18-20</td>\n",
       "      <td>26-27</td>\n",
       "      <td>26-27</td>\n",
       "      <td>24-25</td>\n",
       "      <td>28-30</td>\n",
       "      <td>...</td>\n",
       "      <td>26-27</td>\n",
       "      <td>30-35</td>\n",
       "      <td>30-35</td>\n",
       "      <td>36-40</td>\n",
       "      <td>30-35</td>\n",
       "      <td>30-35</td>\n",
       "      <td>28-30</td>\n",
       "      <td>36-40</td>\n",
       "      <td>18-20</td>\n",
       "      <td>26-27</td>\n",
       "    </tr>\n",
       "    <tr>\n",
       "      <th>13</th>\n",
       "      <td>11/7/2023 16:49:28</td>\n",
       "      <td>28-30</td>\n",
       "      <td>26-27</td>\n",
       "      <td>26-27</td>\n",
       "      <td>28-30</td>\n",
       "      <td>24-25</td>\n",
       "      <td>24-25</td>\n",
       "      <td>26-27</td>\n",
       "      <td>26-27</td>\n",
       "      <td>30-35</td>\n",
       "      <td>...</td>\n",
       "      <td>28-30</td>\n",
       "      <td>30-35</td>\n",
       "      <td>30-35</td>\n",
       "      <td>30-35</td>\n",
       "      <td>36-40</td>\n",
       "      <td>30-35</td>\n",
       "      <td>28-30</td>\n",
       "      <td>30-35</td>\n",
       "      <td>24-25</td>\n",
       "      <td>26-27</td>\n",
       "    </tr>\n",
       "    <tr>\n",
       "      <th>14</th>\n",
       "      <td>11/7/2023 17:16:19</td>\n",
       "      <td>30-35</td>\n",
       "      <td>24-25</td>\n",
       "      <td>24-25</td>\n",
       "      <td>26-27</td>\n",
       "      <td>18-20</td>\n",
       "      <td>21-23</td>\n",
       "      <td>26-27</td>\n",
       "      <td>24-25</td>\n",
       "      <td>26-27</td>\n",
       "      <td>...</td>\n",
       "      <td>26-27</td>\n",
       "      <td>36-40</td>\n",
       "      <td>30-35</td>\n",
       "      <td>36-40</td>\n",
       "      <td>36-40</td>\n",
       "      <td>36-40</td>\n",
       "      <td>28-30</td>\n",
       "      <td>36-40</td>\n",
       "      <td>18-20</td>\n",
       "      <td>24-25</td>\n",
       "    </tr>\n",
       "  </tbody>\n",
       "</table>\n",
       "<p>15 rows × 22 columns</p>\n",
       "</div>"
      ],
      "text/plain": [
       "             Timestamp Kto ma ile lat? [Sodek] Kto ma ile lat? [Skura]  \\\n",
       "0   11/7/2023 16:08:50                   30-35                   26-27   \n",
       "1   11/7/2023 16:09:10                   30-35                   28-30   \n",
       "2   11/7/2023 16:09:50                   30-35                   26-27   \n",
       "3   11/7/2023 16:10:52                   30-35                   26-27   \n",
       "4   11/7/2023 16:11:09                   30-35                   26-27   \n",
       "5   11/7/2023 16:11:38                   28-30                   26-27   \n",
       "6   11/7/2023 16:12:25                   30-35                   26-27   \n",
       "7   11/7/2023 16:12:41                   30-35                   28-30   \n",
       "8   11/7/2023 16:12:49                   30-35                   26-27   \n",
       "9   11/7/2023 16:13:27                   30-35                   26-27   \n",
       "10  11/7/2023 16:13:56                   30-35                   26-27   \n",
       "11  11/7/2023 16:14:14                   30-35                   26-27   \n",
       "12  11/7/2023 16:15:04                   30-35                   26-27   \n",
       "13  11/7/2023 16:49:28                   28-30                   26-27   \n",
       "14  11/7/2023 17:16:19                   30-35                   24-25   \n",
       "\n",
       "   Kto ma ile lat? [Loczek] Kto ma ile lat? [Xerk] Kto ma ile lat? [Cziker]  \\\n",
       "0                     28-30                  28-30                    21-23   \n",
       "1                     28-30                  30-35                    18-20   \n",
       "2                     28-30                  28-30                    18-20   \n",
       "3                     28-30                  28-30                    21-23   \n",
       "4                     28-30                  28-30                    21-23   \n",
       "5                     26-27                  26-27                    21-23   \n",
       "6                     28-30                  28-30                    18-20   \n",
       "7                     28-30                  30-35                    18-20   \n",
       "8                     28-30                  28-30                    21-23   \n",
       "9                     28-30                  28-30                    24-25   \n",
       "10                    26-27                  28-30                    21-23   \n",
       "11                    28-30                  30-35                    18-20   \n",
       "12                    28-30                  28-30                    18-20   \n",
       "13                    26-27                  28-30                    24-25   \n",
       "14                    24-25                  26-27                    18-20   \n",
       "\n",
       "   Kto ma ile lat? [Jędrek] Kto ma ile lat? [Dominik]  \\\n",
       "0                     28-30                     28-30   \n",
       "1                     26-27                     30-35   \n",
       "2                     24-25                     26-27   \n",
       "3                     26-27                     24-25   \n",
       "4                     26-27                     26-27   \n",
       "5                     21-23                     26-27   \n",
       "6                     26-27                     26-27   \n",
       "7                     26-27                     30-35   \n",
       "8                     28-30                     28-30   \n",
       "9                     26-27                     26-27   \n",
       "10                    24-25                     26-27   \n",
       "11                    24-25                     26-27   \n",
       "12                    26-27                     26-27   \n",
       "13                    24-25                     26-27   \n",
       "14                    21-23                     26-27   \n",
       "\n",
       "   Kto ma ile lat? [Michał K.] Kto ma ile lat? [Franek]  ...  \\\n",
       "0                        26-27                    28-30  ...   \n",
       "1                        26-27                    30-35  ...   \n",
       "2                        21-23                    26-27  ...   \n",
       "3                        26-27                    30-35  ...   \n",
       "4                          <18                    30-35  ...   \n",
       "5                        26-27                    28-30  ...   \n",
       "6                        24-25                    28-30  ...   \n",
       "7                        26-27                    30-35  ...   \n",
       "8                        26-27                    28-30  ...   \n",
       "9                        26-27                    30-35  ...   \n",
       "10                       24-25                    28-30  ...   \n",
       "11                       24-25                    30-35  ...   \n",
       "12                       24-25                    28-30  ...   \n",
       "13                       26-27                    30-35  ...   \n",
       "14                       24-25                    26-27  ...   \n",
       "\n",
       "   Kto ma ile lat? [Wiśnia] Kto ma ile lat? [Skisły] Kto ma ile lat? [Jacek]  \\\n",
       "0                     28-30                    36-40                   30-35   \n",
       "1                     28-30                    36-40                   36-40   \n",
       "2                     26-27                    30-35                   30-35   \n",
       "3                     26-27                    36-40                   36-40   \n",
       "4                     26-27                    36-40                   36-40   \n",
       "5                       <18                    36-40                   36-40   \n",
       "6                     26-27                    30-35                   30-35   \n",
       "7                     28-30                    36-40                   36-40   \n",
       "8                     28-30                    36-40                   30-35   \n",
       "9                     26-27                    36-40                   36-40   \n",
       "10                    30-35                    30-35                   30-35   \n",
       "11                    26-27                    36-40                   30-35   \n",
       "12                    26-27                    30-35                   30-35   \n",
       "13                    28-30                    30-35                   30-35   \n",
       "14                    26-27                    36-40                   30-35   \n",
       "\n",
       "   Kto ma ile lat? [Błażek] Kto ma ile lat? [Lori] Kto ma ile lat? [Tutajec]  \\\n",
       "0                     30-35                  36-40                     30-35   \n",
       "1                     36-40                  36-40                     36-40   \n",
       "2                     30-35                  30-35                     28-30   \n",
       "3                     36-40                  36-40                     30-35   \n",
       "4                     30-35                  36-40                     36-40   \n",
       "5                     36-40                  36-40                     30-35   \n",
       "6                     36-40                  30-35                     30-35   \n",
       "7                     36-40                  36-40                     36-40   \n",
       "8                     30-35                  36-40                     30-35   \n",
       "9                     36-40                  36-40                     30-35   \n",
       "10                    30-35                  30-35                     30-35   \n",
       "11                    36-40                  30-35                     28-30   \n",
       "12                    36-40                  30-35                     30-35   \n",
       "13                    30-35                  36-40                     30-35   \n",
       "14                    36-40                  36-40                     36-40   \n",
       "\n",
       "   Kto ma ile lat? [Jaszczu] Kto ma ile lat? [Alan] Kto ma ile lat? [Kajter]  \\\n",
       "0                      28-30                  36-40                    21-23   \n",
       "1                      28-30                  36-40                    18-20   \n",
       "2                      26-27                  36-40                    18-20   \n",
       "3                      28-30                  36-40                      <18   \n",
       "4                      30-35                  36-40                      <18   \n",
       "5                      26-27                  36-40                    18-20   \n",
       "6                      28-30                  36-40                    18-20   \n",
       "7                      30-35                  36-40                    18-20   \n",
       "8                      26-27                  36-40                    21-23   \n",
       "9                      28-30                  36-40                      <18   \n",
       "10                     26-27                  36-40                    18-20   \n",
       "11                     26-27                  30-35                    18-20   \n",
       "12                     28-30                  36-40                    18-20   \n",
       "13                     28-30                  30-35                    24-25   \n",
       "14                     28-30                  36-40                    18-20   \n",
       "\n",
       "   Kto ma ile lat? [Emel]  \n",
       "0                   28-30  \n",
       "1                   26-27  \n",
       "2                   26-27  \n",
       "3                   26-27  \n",
       "4                   26-27  \n",
       "5                   26-27  \n",
       "6                   26-27  \n",
       "7                   24-25  \n",
       "8                   26-27  \n",
       "9                   26-27  \n",
       "10                  26-27  \n",
       "11                  26-27  \n",
       "12                  26-27  \n",
       "13                  26-27  \n",
       "14                  24-25  \n",
       "\n",
       "[15 rows x 22 columns]"
      ]
     },
     "execution_count": 3,
     "metadata": {},
     "output_type": "execute_result"
    }
   ],
   "source": [
    "df = pd.read_csv('Wiek.csv')\n",
    "df"
   ]
  },
  {
   "cell_type": "code",
   "execution_count": 6,
   "id": "af3bbefe",
   "metadata": {},
   "outputs": [
    {
     "data": {
      "text/html": [
       "<div>\n",
       "<style scoped>\n",
       "    .dataframe tbody tr th:only-of-type {\n",
       "        vertical-align: middle;\n",
       "    }\n",
       "\n",
       "    .dataframe tbody tr th {\n",
       "        vertical-align: top;\n",
       "    }\n",
       "\n",
       "    .dataframe thead th {\n",
       "        text-align: right;\n",
       "    }\n",
       "</style>\n",
       "<table border=\"1\" class=\"dataframe\">\n",
       "  <thead>\n",
       "    <tr style=\"text-align: right;\">\n",
       "      <th></th>\n",
       "      <th>Timestamp</th>\n",
       "      <th>Name</th>\n",
       "      <th>Value</th>\n",
       "    </tr>\n",
       "  </thead>\n",
       "  <tbody>\n",
       "    <tr>\n",
       "      <th>0</th>\n",
       "      <td>11/7/2023 16:08:50</td>\n",
       "      <td>Sodek</td>\n",
       "      <td>30-35</td>\n",
       "    </tr>\n",
       "    <tr>\n",
       "      <th>1</th>\n",
       "      <td>11/7/2023 16:09:10</td>\n",
       "      <td>Sodek</td>\n",
       "      <td>30-35</td>\n",
       "    </tr>\n",
       "    <tr>\n",
       "      <th>2</th>\n",
       "      <td>11/7/2023 16:09:50</td>\n",
       "      <td>Sodek</td>\n",
       "      <td>30-35</td>\n",
       "    </tr>\n",
       "    <tr>\n",
       "      <th>3</th>\n",
       "      <td>11/7/2023 16:10:52</td>\n",
       "      <td>Sodek</td>\n",
       "      <td>30-35</td>\n",
       "    </tr>\n",
       "    <tr>\n",
       "      <th>4</th>\n",
       "      <td>11/7/2023 16:11:09</td>\n",
       "      <td>Sodek</td>\n",
       "      <td>30-35</td>\n",
       "    </tr>\n",
       "    <tr>\n",
       "      <th>...</th>\n",
       "      <td>...</td>\n",
       "      <td>...</td>\n",
       "      <td>...</td>\n",
       "    </tr>\n",
       "    <tr>\n",
       "      <th>310</th>\n",
       "      <td>11/7/2023 16:13:56</td>\n",
       "      <td>Emel</td>\n",
       "      <td>26-27</td>\n",
       "    </tr>\n",
       "    <tr>\n",
       "      <th>311</th>\n",
       "      <td>11/7/2023 16:14:14</td>\n",
       "      <td>Emel</td>\n",
       "      <td>26-27</td>\n",
       "    </tr>\n",
       "    <tr>\n",
       "      <th>312</th>\n",
       "      <td>11/7/2023 16:15:04</td>\n",
       "      <td>Emel</td>\n",
       "      <td>26-27</td>\n",
       "    </tr>\n",
       "    <tr>\n",
       "      <th>313</th>\n",
       "      <td>11/7/2023 16:49:28</td>\n",
       "      <td>Emel</td>\n",
       "      <td>26-27</td>\n",
       "    </tr>\n",
       "    <tr>\n",
       "      <th>314</th>\n",
       "      <td>11/7/2023 17:16:19</td>\n",
       "      <td>Emel</td>\n",
       "      <td>24-25</td>\n",
       "    </tr>\n",
       "  </tbody>\n",
       "</table>\n",
       "<p>315 rows × 3 columns</p>\n",
       "</div>"
      ],
      "text/plain": [
       "              Timestamp   Name  Value\n",
       "0    11/7/2023 16:08:50  Sodek  30-35\n",
       "1    11/7/2023 16:09:10  Sodek  30-35\n",
       "2    11/7/2023 16:09:50  Sodek  30-35\n",
       "3    11/7/2023 16:10:52  Sodek  30-35\n",
       "4    11/7/2023 16:11:09  Sodek  30-35\n",
       "..                  ...    ...    ...\n",
       "310  11/7/2023 16:13:56   Emel  26-27\n",
       "311  11/7/2023 16:14:14   Emel  26-27\n",
       "312  11/7/2023 16:15:04   Emel  26-27\n",
       "313  11/7/2023 16:49:28   Emel  26-27\n",
       "314  11/7/2023 17:16:19   Emel  24-25\n",
       "\n",
       "[315 rows x 3 columns]"
      ]
     },
     "execution_count": 6,
     "metadata": {},
     "output_type": "execute_result"
    }
   ],
   "source": [
    "df_long = pd.melt(df, id_vars=['Timestamp'], var_name='Name', value_name='Value')\n",
    "df_long['Name'] = df_long['Name'].str.extract(r'\\[([A-Za-z0-9]+)\\]')\n",
    "df_long"
   ]
  },
  {
   "cell_type": "code",
   "execution_count": 8,
   "id": "b81ae5e4",
   "metadata": {},
   "outputs": [],
   "source": [
    "grouped = df_long.groupby(['Name', 'Value']).Timestamp.nunique().reset_index(name='Count')\n"
   ]
  },
  {
   "cell_type": "code",
   "execution_count": 14,
   "id": "46c7219e",
   "metadata": {},
   "outputs": [
    {
     "data": {
      "application/vnd.plotly.v1+json": {
       "config": {
        "plotlyServerURL": "https://plot.ly"
       },
       "data": [
        {
         "name": "Alan",
         "type": "bar",
         "visible": true,
         "x": [
          "30-35",
          "36-40"
         ],
         "y": [
          2,
          13
         ]
        },
        {
         "name": "Cziker",
         "type": "bar",
         "visible": false,
         "x": [
          "18-20",
          "21-23",
          "24-25"
         ],
         "y": [
          7,
          6,
          2
         ]
        },
        {
         "name": "Dominik",
         "type": "bar",
         "visible": false,
         "x": [
          "24-25",
          "26-27",
          "28-30",
          "30-35"
         ],
         "y": [
          1,
          10,
          2,
          2
         ]
        },
        {
         "name": "Emel",
         "type": "bar",
         "visible": false,
         "x": [
          "24-25",
          "26-27",
          "28-30"
         ],
         "y": [
          2,
          12,
          1
         ]
        },
        {
         "name": "Franek",
         "type": "bar",
         "visible": false,
         "x": [
          "26-27",
          "28-30",
          "30-35"
         ],
         "y": [
          2,
          6,
          7
         ]
        },
        {
         "name": "Hawaj",
         "type": "bar",
         "visible": false,
         "x": [
          "28-30",
          "30-35"
         ],
         "y": [
          3,
          5
         ]
        },
        {
         "name": "Jacek",
         "type": "bar",
         "visible": false,
         "x": [
          "30-35",
          "36-40"
         ],
         "y": [
          9,
          6
         ]
        },
        {
         "name": "Jaszczu",
         "type": "bar",
         "visible": false,
         "x": [
          "26-27",
          "28-30",
          "30-35"
         ],
         "y": [
          5,
          8,
          2
         ]
        },
        {
         "name": "Kajter",
         "type": "bar",
         "visible": false,
         "x": [
          "18-20",
          "21-23",
          "24-25",
          "<18"
         ],
         "y": [
          9,
          2,
          1,
          3
         ]
        },
        {
         "name": "Loczek",
         "type": "bar",
         "visible": false,
         "x": [
          "24-25",
          "26-27",
          "28-30"
         ],
         "y": [
          1,
          3,
          11
         ]
        },
        {
         "name": "Lori",
         "type": "bar",
         "visible": false,
         "x": [
          "30-35",
          "36-40"
         ],
         "y": [
          5,
          10
         ]
        },
        {
         "name": "Skura",
         "type": "bar",
         "visible": false,
         "x": [
          "24-25",
          "26-27",
          "28-30"
         ],
         "y": [
          1,
          12,
          2
         ]
        },
        {
         "name": "Sodek",
         "type": "bar",
         "visible": false,
         "x": [
          "28-30",
          "30-35"
         ],
         "y": [
          2,
          13
         ]
        },
        {
         "name": "Tutajec",
         "type": "bar",
         "visible": false,
         "x": [
          "28-30",
          "30-35",
          "36-40"
         ],
         "y": [
          2,
          9,
          4
         ]
        },
        {
         "name": "Xerk",
         "type": "bar",
         "visible": false,
         "x": [
          "26-27",
          "28-30",
          "30-35"
         ],
         "y": [
          2,
          10,
          3
         ]
        }
       ],
       "layout": {
        "template": {
         "data": {
          "bar": [
           {
            "error_x": {
             "color": "#2a3f5f"
            },
            "error_y": {
             "color": "#2a3f5f"
            },
            "marker": {
             "line": {
              "color": "#E5ECF6",
              "width": 0.5
             },
             "pattern": {
              "fillmode": "overlay",
              "size": 10,
              "solidity": 0.2
             }
            },
            "type": "bar"
           }
          ],
          "barpolar": [
           {
            "marker": {
             "line": {
              "color": "#E5ECF6",
              "width": 0.5
             },
             "pattern": {
              "fillmode": "overlay",
              "size": 10,
              "solidity": 0.2
             }
            },
            "type": "barpolar"
           }
          ],
          "carpet": [
           {
            "aaxis": {
             "endlinecolor": "#2a3f5f",
             "gridcolor": "white",
             "linecolor": "white",
             "minorgridcolor": "white",
             "startlinecolor": "#2a3f5f"
            },
            "baxis": {
             "endlinecolor": "#2a3f5f",
             "gridcolor": "white",
             "linecolor": "white",
             "minorgridcolor": "white",
             "startlinecolor": "#2a3f5f"
            },
            "type": "carpet"
           }
          ],
          "choropleth": [
           {
            "colorbar": {
             "outlinewidth": 0,
             "ticks": ""
            },
            "type": "choropleth"
           }
          ],
          "contour": [
           {
            "colorbar": {
             "outlinewidth": 0,
             "ticks": ""
            },
            "colorscale": [
             [
              0,
              "#0d0887"
             ],
             [
              0.1111111111111111,
              "#46039f"
             ],
             [
              0.2222222222222222,
              "#7201a8"
             ],
             [
              0.3333333333333333,
              "#9c179e"
             ],
             [
              0.4444444444444444,
              "#bd3786"
             ],
             [
              0.5555555555555556,
              "#d8576b"
             ],
             [
              0.6666666666666666,
              "#ed7953"
             ],
             [
              0.7777777777777778,
              "#fb9f3a"
             ],
             [
              0.8888888888888888,
              "#fdca26"
             ],
             [
              1,
              "#f0f921"
             ]
            ],
            "type": "contour"
           }
          ],
          "contourcarpet": [
           {
            "colorbar": {
             "outlinewidth": 0,
             "ticks": ""
            },
            "type": "contourcarpet"
           }
          ],
          "heatmap": [
           {
            "colorbar": {
             "outlinewidth": 0,
             "ticks": ""
            },
            "colorscale": [
             [
              0,
              "#0d0887"
             ],
             [
              0.1111111111111111,
              "#46039f"
             ],
             [
              0.2222222222222222,
              "#7201a8"
             ],
             [
              0.3333333333333333,
              "#9c179e"
             ],
             [
              0.4444444444444444,
              "#bd3786"
             ],
             [
              0.5555555555555556,
              "#d8576b"
             ],
             [
              0.6666666666666666,
              "#ed7953"
             ],
             [
              0.7777777777777778,
              "#fb9f3a"
             ],
             [
              0.8888888888888888,
              "#fdca26"
             ],
             [
              1,
              "#f0f921"
             ]
            ],
            "type": "heatmap"
           }
          ],
          "heatmapgl": [
           {
            "colorbar": {
             "outlinewidth": 0,
             "ticks": ""
            },
            "colorscale": [
             [
              0,
              "#0d0887"
             ],
             [
              0.1111111111111111,
              "#46039f"
             ],
             [
              0.2222222222222222,
              "#7201a8"
             ],
             [
              0.3333333333333333,
              "#9c179e"
             ],
             [
              0.4444444444444444,
              "#bd3786"
             ],
             [
              0.5555555555555556,
              "#d8576b"
             ],
             [
              0.6666666666666666,
              "#ed7953"
             ],
             [
              0.7777777777777778,
              "#fb9f3a"
             ],
             [
              0.8888888888888888,
              "#fdca26"
             ],
             [
              1,
              "#f0f921"
             ]
            ],
            "type": "heatmapgl"
           }
          ],
          "histogram": [
           {
            "marker": {
             "pattern": {
              "fillmode": "overlay",
              "size": 10,
              "solidity": 0.2
             }
            },
            "type": "histogram"
           }
          ],
          "histogram2d": [
           {
            "colorbar": {
             "outlinewidth": 0,
             "ticks": ""
            },
            "colorscale": [
             [
              0,
              "#0d0887"
             ],
             [
              0.1111111111111111,
              "#46039f"
             ],
             [
              0.2222222222222222,
              "#7201a8"
             ],
             [
              0.3333333333333333,
              "#9c179e"
             ],
             [
              0.4444444444444444,
              "#bd3786"
             ],
             [
              0.5555555555555556,
              "#d8576b"
             ],
             [
              0.6666666666666666,
              "#ed7953"
             ],
             [
              0.7777777777777778,
              "#fb9f3a"
             ],
             [
              0.8888888888888888,
              "#fdca26"
             ],
             [
              1,
              "#f0f921"
             ]
            ],
            "type": "histogram2d"
           }
          ],
          "histogram2dcontour": [
           {
            "colorbar": {
             "outlinewidth": 0,
             "ticks": ""
            },
            "colorscale": [
             [
              0,
              "#0d0887"
             ],
             [
              0.1111111111111111,
              "#46039f"
             ],
             [
              0.2222222222222222,
              "#7201a8"
             ],
             [
              0.3333333333333333,
              "#9c179e"
             ],
             [
              0.4444444444444444,
              "#bd3786"
             ],
             [
              0.5555555555555556,
              "#d8576b"
             ],
             [
              0.6666666666666666,
              "#ed7953"
             ],
             [
              0.7777777777777778,
              "#fb9f3a"
             ],
             [
              0.8888888888888888,
              "#fdca26"
             ],
             [
              1,
              "#f0f921"
             ]
            ],
            "type": "histogram2dcontour"
           }
          ],
          "mesh3d": [
           {
            "colorbar": {
             "outlinewidth": 0,
             "ticks": ""
            },
            "type": "mesh3d"
           }
          ],
          "parcoords": [
           {
            "line": {
             "colorbar": {
              "outlinewidth": 0,
              "ticks": ""
             }
            },
            "type": "parcoords"
           }
          ],
          "pie": [
           {
            "automargin": true,
            "type": "pie"
           }
          ],
          "scatter": [
           {
            "fillpattern": {
             "fillmode": "overlay",
             "size": 10,
             "solidity": 0.2
            },
            "type": "scatter"
           }
          ],
          "scatter3d": [
           {
            "line": {
             "colorbar": {
              "outlinewidth": 0,
              "ticks": ""
             }
            },
            "marker": {
             "colorbar": {
              "outlinewidth": 0,
              "ticks": ""
             }
            },
            "type": "scatter3d"
           }
          ],
          "scattercarpet": [
           {
            "marker": {
             "colorbar": {
              "outlinewidth": 0,
              "ticks": ""
             }
            },
            "type": "scattercarpet"
           }
          ],
          "scattergeo": [
           {
            "marker": {
             "colorbar": {
              "outlinewidth": 0,
              "ticks": ""
             }
            },
            "type": "scattergeo"
           }
          ],
          "scattergl": [
           {
            "marker": {
             "colorbar": {
              "outlinewidth": 0,
              "ticks": ""
             }
            },
            "type": "scattergl"
           }
          ],
          "scattermapbox": [
           {
            "marker": {
             "colorbar": {
              "outlinewidth": 0,
              "ticks": ""
             }
            },
            "type": "scattermapbox"
           }
          ],
          "scatterpolar": [
           {
            "marker": {
             "colorbar": {
              "outlinewidth": 0,
              "ticks": ""
             }
            },
            "type": "scatterpolar"
           }
          ],
          "scatterpolargl": [
           {
            "marker": {
             "colorbar": {
              "outlinewidth": 0,
              "ticks": ""
             }
            },
            "type": "scatterpolargl"
           }
          ],
          "scatterternary": [
           {
            "marker": {
             "colorbar": {
              "outlinewidth": 0,
              "ticks": ""
             }
            },
            "type": "scatterternary"
           }
          ],
          "surface": [
           {
            "colorbar": {
             "outlinewidth": 0,
             "ticks": ""
            },
            "colorscale": [
             [
              0,
              "#0d0887"
             ],
             [
              0.1111111111111111,
              "#46039f"
             ],
             [
              0.2222222222222222,
              "#7201a8"
             ],
             [
              0.3333333333333333,
              "#9c179e"
             ],
             [
              0.4444444444444444,
              "#bd3786"
             ],
             [
              0.5555555555555556,
              "#d8576b"
             ],
             [
              0.6666666666666666,
              "#ed7953"
             ],
             [
              0.7777777777777778,
              "#fb9f3a"
             ],
             [
              0.8888888888888888,
              "#fdca26"
             ],
             [
              1,
              "#f0f921"
             ]
            ],
            "type": "surface"
           }
          ],
          "table": [
           {
            "cells": {
             "fill": {
              "color": "#EBF0F8"
             },
             "line": {
              "color": "white"
             }
            },
            "header": {
             "fill": {
              "color": "#C8D4E3"
             },
             "line": {
              "color": "white"
             }
            },
            "type": "table"
           }
          ]
         },
         "layout": {
          "annotationdefaults": {
           "arrowcolor": "#2a3f5f",
           "arrowhead": 0,
           "arrowwidth": 1
          },
          "autotypenumbers": "strict",
          "coloraxis": {
           "colorbar": {
            "outlinewidth": 0,
            "ticks": ""
           }
          },
          "colorscale": {
           "diverging": [
            [
             0,
             "#8e0152"
            ],
            [
             0.1,
             "#c51b7d"
            ],
            [
             0.2,
             "#de77ae"
            ],
            [
             0.3,
             "#f1b6da"
            ],
            [
             0.4,
             "#fde0ef"
            ],
            [
             0.5,
             "#f7f7f7"
            ],
            [
             0.6,
             "#e6f5d0"
            ],
            [
             0.7,
             "#b8e186"
            ],
            [
             0.8,
             "#7fbc41"
            ],
            [
             0.9,
             "#4d9221"
            ],
            [
             1,
             "#276419"
            ]
           ],
           "sequential": [
            [
             0,
             "#0d0887"
            ],
            [
             0.1111111111111111,
             "#46039f"
            ],
            [
             0.2222222222222222,
             "#7201a8"
            ],
            [
             0.3333333333333333,
             "#9c179e"
            ],
            [
             0.4444444444444444,
             "#bd3786"
            ],
            [
             0.5555555555555556,
             "#d8576b"
            ],
            [
             0.6666666666666666,
             "#ed7953"
            ],
            [
             0.7777777777777778,
             "#fb9f3a"
            ],
            [
             0.8888888888888888,
             "#fdca26"
            ],
            [
             1,
             "#f0f921"
            ]
           ],
           "sequentialminus": [
            [
             0,
             "#0d0887"
            ],
            [
             0.1111111111111111,
             "#46039f"
            ],
            [
             0.2222222222222222,
             "#7201a8"
            ],
            [
             0.3333333333333333,
             "#9c179e"
            ],
            [
             0.4444444444444444,
             "#bd3786"
            ],
            [
             0.5555555555555556,
             "#d8576b"
            ],
            [
             0.6666666666666666,
             "#ed7953"
            ],
            [
             0.7777777777777778,
             "#fb9f3a"
            ],
            [
             0.8888888888888888,
             "#fdca26"
            ],
            [
             1,
             "#f0f921"
            ]
           ]
          },
          "colorway": [
           "#636efa",
           "#EF553B",
           "#00cc96",
           "#ab63fa",
           "#FFA15A",
           "#19d3f3",
           "#FF6692",
           "#B6E880",
           "#FF97FF",
           "#FECB52"
          ],
          "font": {
           "color": "#2a3f5f"
          },
          "geo": {
           "bgcolor": "white",
           "lakecolor": "white",
           "landcolor": "#E5ECF6",
           "showlakes": true,
           "showland": true,
           "subunitcolor": "white"
          },
          "hoverlabel": {
           "align": "left"
          },
          "hovermode": "closest",
          "mapbox": {
           "style": "light"
          },
          "paper_bgcolor": "white",
          "plot_bgcolor": "#E5ECF6",
          "polar": {
           "angularaxis": {
            "gridcolor": "white",
            "linecolor": "white",
            "ticks": ""
           },
           "bgcolor": "#E5ECF6",
           "radialaxis": {
            "gridcolor": "white",
            "linecolor": "white",
            "ticks": ""
           }
          },
          "scene": {
           "xaxis": {
            "backgroundcolor": "#E5ECF6",
            "gridcolor": "white",
            "gridwidth": 2,
            "linecolor": "white",
            "showbackground": true,
            "ticks": "",
            "zerolinecolor": "white"
           },
           "yaxis": {
            "backgroundcolor": "#E5ECF6",
            "gridcolor": "white",
            "gridwidth": 2,
            "linecolor": "white",
            "showbackground": true,
            "ticks": "",
            "zerolinecolor": "white"
           },
           "zaxis": {
            "backgroundcolor": "#E5ECF6",
            "gridcolor": "white",
            "gridwidth": 2,
            "linecolor": "white",
            "showbackground": true,
            "ticks": "",
            "zerolinecolor": "white"
           }
          },
          "shapedefaults": {
           "line": {
            "color": "#2a3f5f"
           }
          },
          "ternary": {
           "aaxis": {
            "gridcolor": "white",
            "linecolor": "white",
            "ticks": ""
           },
           "baxis": {
            "gridcolor": "white",
            "linecolor": "white",
            "ticks": ""
           },
           "bgcolor": "#E5ECF6",
           "caxis": {
            "gridcolor": "white",
            "linecolor": "white",
            "ticks": ""
           }
          },
          "title": {
           "x": 0.05
          },
          "xaxis": {
           "automargin": true,
           "gridcolor": "white",
           "linecolor": "white",
           "ticks": "",
           "title": {
            "standoff": 15
           },
           "zerolinecolor": "white",
           "zerolinewidth": 2
          },
          "yaxis": {
           "automargin": true,
           "gridcolor": "white",
           "linecolor": "white",
           "ticks": "",
           "title": {
            "standoff": 15
           },
           "zerolinecolor": "white",
           "zerolinewidth": 2
          }
         }
        },
        "title": {
         "text": "Bar Chart for Name A"
        },
        "updatemenus": [
         {
          "active": 0,
          "buttons": [
           {
            "args": [
             {
              "visible": [
               true,
               false,
               false,
               false,
               false,
               false,
               false,
               false,
               false,
               false,
               false,
               false,
               false,
               false,
               false
              ]
             },
             {
              "title": "Bar Chart for Alan"
             }
            ],
            "label": "Alan",
            "method": "update"
           },
           {
            "args": [
             {
              "visible": [
               false,
               true,
               false,
               false,
               false,
               false,
               false,
               false,
               false,
               false,
               false,
               false,
               false,
               false,
               false
              ]
             },
             {
              "title": "Bar Chart for Cziker"
             }
            ],
            "label": "Cziker",
            "method": "update"
           },
           {
            "args": [
             {
              "visible": [
               false,
               false,
               true,
               false,
               false,
               false,
               false,
               false,
               false,
               false,
               false,
               false,
               false,
               false,
               false
              ]
             },
             {
              "title": "Bar Chart for Dominik"
             }
            ],
            "label": "Dominik",
            "method": "update"
           },
           {
            "args": [
             {
              "visible": [
               false,
               false,
               false,
               true,
               false,
               false,
               false,
               false,
               false,
               false,
               false,
               false,
               false,
               false,
               false
              ]
             },
             {
              "title": "Bar Chart for Emel"
             }
            ],
            "label": "Emel",
            "method": "update"
           },
           {
            "args": [
             {
              "visible": [
               false,
               false,
               false,
               false,
               true,
               false,
               false,
               false,
               false,
               false,
               false,
               false,
               false,
               false,
               false
              ]
             },
             {
              "title": "Bar Chart for Franek"
             }
            ],
            "label": "Franek",
            "method": "update"
           },
           {
            "args": [
             {
              "visible": [
               false,
               false,
               false,
               false,
               false,
               true,
               false,
               false,
               false,
               false,
               false,
               false,
               false,
               false,
               false
              ]
             },
             {
              "title": "Bar Chart for Hawaj"
             }
            ],
            "label": "Hawaj",
            "method": "update"
           },
           {
            "args": [
             {
              "visible": [
               false,
               false,
               false,
               false,
               false,
               false,
               true,
               false,
               false,
               false,
               false,
               false,
               false,
               false,
               false
              ]
             },
             {
              "title": "Bar Chart for Jacek"
             }
            ],
            "label": "Jacek",
            "method": "update"
           },
           {
            "args": [
             {
              "visible": [
               false,
               false,
               false,
               false,
               false,
               false,
               false,
               true,
               false,
               false,
               false,
               false,
               false,
               false,
               false
              ]
             },
             {
              "title": "Bar Chart for Jaszczu"
             }
            ],
            "label": "Jaszczu",
            "method": "update"
           },
           {
            "args": [
             {
              "visible": [
               false,
               false,
               false,
               false,
               false,
               false,
               false,
               false,
               true,
               false,
               false,
               false,
               false,
               false,
               false
              ]
             },
             {
              "title": "Bar Chart for Kajter"
             }
            ],
            "label": "Kajter",
            "method": "update"
           },
           {
            "args": [
             {
              "visible": [
               false,
               false,
               false,
               false,
               false,
               false,
               false,
               false,
               false,
               true,
               false,
               false,
               false,
               false,
               false
              ]
             },
             {
              "title": "Bar Chart for Loczek"
             }
            ],
            "label": "Loczek",
            "method": "update"
           },
           {
            "args": [
             {
              "visible": [
               false,
               false,
               false,
               false,
               false,
               false,
               false,
               false,
               false,
               false,
               true,
               false,
               false,
               false,
               false
              ]
             },
             {
              "title": "Bar Chart for Lori"
             }
            ],
            "label": "Lori",
            "method": "update"
           },
           {
            "args": [
             {
              "visible": [
               false,
               false,
               false,
               false,
               false,
               false,
               false,
               false,
               false,
               false,
               false,
               true,
               false,
               false,
               false
              ]
             },
             {
              "title": "Bar Chart for Skura"
             }
            ],
            "label": "Skura",
            "method": "update"
           },
           {
            "args": [
             {
              "visible": [
               false,
               false,
               false,
               false,
               false,
               false,
               false,
               false,
               false,
               false,
               false,
               false,
               true,
               false,
               false
              ]
             },
             {
              "title": "Bar Chart for Sodek"
             }
            ],
            "label": "Sodek",
            "method": "update"
           },
           {
            "args": [
             {
              "visible": [
               false,
               false,
               false,
               false,
               false,
               false,
               false,
               false,
               false,
               false,
               false,
               false,
               false,
               true,
               false
              ]
             },
             {
              "title": "Bar Chart for Tutajec"
             }
            ],
            "label": "Tutajec",
            "method": "update"
           },
           {
            "args": [
             {
              "visible": [
               false,
               false,
               false,
               false,
               false,
               false,
               false,
               false,
               false,
               false,
               false,
               false,
               false,
               false,
               true
              ]
             },
             {
              "title": "Bar Chart for Xerk"
             }
            ],
            "label": "Xerk",
            "method": "update"
           }
          ],
          "direction": "down",
          "pad": {
           "r": 10,
           "t": 10
          },
          "showactive": true,
          "x": 0.1,
          "xanchor": "left",
          "y": 1.15,
          "yanchor": "top"
         }
        ],
        "xaxis": {
         "anchor": "y",
         "domain": [
          0,
          1
         ],
         "title": {
          "text": "Value"
         }
        },
        "yaxis": {
         "anchor": "x",
         "domain": [
          0,
          1
         ],
         "title": {
          "text": "Number of Unique Timestamps"
         }
        }
       }
      },
      "text/html": [
       "<div>                            <div id=\"be7a1120-9e04-436a-9b97-f75d41235a0a\" class=\"plotly-graph-div\" style=\"height:525px; width:100%;\"></div>            <script type=\"text/javascript\">                require([\"plotly\"], function(Plotly) {                    window.PLOTLYENV=window.PLOTLYENV || {};                                    if (document.getElementById(\"be7a1120-9e04-436a-9b97-f75d41235a0a\")) {                    Plotly.newPlot(                        \"be7a1120-9e04-436a-9b97-f75d41235a0a\",                        [{\"name\":\"Alan\",\"visible\":true,\"x\":[\"30-35\",\"36-40\"],\"y\":[2,13],\"type\":\"bar\"},{\"name\":\"Cziker\",\"visible\":false,\"x\":[\"18-20\",\"21-23\",\"24-25\"],\"y\":[7,6,2],\"type\":\"bar\"},{\"name\":\"Dominik\",\"visible\":false,\"x\":[\"24-25\",\"26-27\",\"28-30\",\"30-35\"],\"y\":[1,10,2,2],\"type\":\"bar\"},{\"name\":\"Emel\",\"visible\":false,\"x\":[\"24-25\",\"26-27\",\"28-30\"],\"y\":[2,12,1],\"type\":\"bar\"},{\"name\":\"Franek\",\"visible\":false,\"x\":[\"26-27\",\"28-30\",\"30-35\"],\"y\":[2,6,7],\"type\":\"bar\"},{\"name\":\"Hawaj\",\"visible\":false,\"x\":[\"28-30\",\"30-35\"],\"y\":[3,5],\"type\":\"bar\"},{\"name\":\"Jacek\",\"visible\":false,\"x\":[\"30-35\",\"36-40\"],\"y\":[9,6],\"type\":\"bar\"},{\"name\":\"Jaszczu\",\"visible\":false,\"x\":[\"26-27\",\"28-30\",\"30-35\"],\"y\":[5,8,2],\"type\":\"bar\"},{\"name\":\"Kajter\",\"visible\":false,\"x\":[\"18-20\",\"21-23\",\"24-25\",\"<18\"],\"y\":[9,2,1,3],\"type\":\"bar\"},{\"name\":\"Loczek\",\"visible\":false,\"x\":[\"24-25\",\"26-27\",\"28-30\"],\"y\":[1,3,11],\"type\":\"bar\"},{\"name\":\"Lori\",\"visible\":false,\"x\":[\"30-35\",\"36-40\"],\"y\":[5,10],\"type\":\"bar\"},{\"name\":\"Skura\",\"visible\":false,\"x\":[\"24-25\",\"26-27\",\"28-30\"],\"y\":[1,12,2],\"type\":\"bar\"},{\"name\":\"Sodek\",\"visible\":false,\"x\":[\"28-30\",\"30-35\"],\"y\":[2,13],\"type\":\"bar\"},{\"name\":\"Tutajec\",\"visible\":false,\"x\":[\"28-30\",\"30-35\",\"36-40\"],\"y\":[2,9,4],\"type\":\"bar\"},{\"name\":\"Xerk\",\"visible\":false,\"x\":[\"26-27\",\"28-30\",\"30-35\"],\"y\":[2,10,3],\"type\":\"bar\"}],                        {\"template\":{\"data\":{\"histogram2dcontour\":[{\"type\":\"histogram2dcontour\",\"colorbar\":{\"outlinewidth\":0,\"ticks\":\"\"},\"colorscale\":[[0.0,\"#0d0887\"],[0.1111111111111111,\"#46039f\"],[0.2222222222222222,\"#7201a8\"],[0.3333333333333333,\"#9c179e\"],[0.4444444444444444,\"#bd3786\"],[0.5555555555555556,\"#d8576b\"],[0.6666666666666666,\"#ed7953\"],[0.7777777777777778,\"#fb9f3a\"],[0.8888888888888888,\"#fdca26\"],[1.0,\"#f0f921\"]]}],\"choropleth\":[{\"type\":\"choropleth\",\"colorbar\":{\"outlinewidth\":0,\"ticks\":\"\"}}],\"histogram2d\":[{\"type\":\"histogram2d\",\"colorbar\":{\"outlinewidth\":0,\"ticks\":\"\"},\"colorscale\":[[0.0,\"#0d0887\"],[0.1111111111111111,\"#46039f\"],[0.2222222222222222,\"#7201a8\"],[0.3333333333333333,\"#9c179e\"],[0.4444444444444444,\"#bd3786\"],[0.5555555555555556,\"#d8576b\"],[0.6666666666666666,\"#ed7953\"],[0.7777777777777778,\"#fb9f3a\"],[0.8888888888888888,\"#fdca26\"],[1.0,\"#f0f921\"]]}],\"heatmap\":[{\"type\":\"heatmap\",\"colorbar\":{\"outlinewidth\":0,\"ticks\":\"\"},\"colorscale\":[[0.0,\"#0d0887\"],[0.1111111111111111,\"#46039f\"],[0.2222222222222222,\"#7201a8\"],[0.3333333333333333,\"#9c179e\"],[0.4444444444444444,\"#bd3786\"],[0.5555555555555556,\"#d8576b\"],[0.6666666666666666,\"#ed7953\"],[0.7777777777777778,\"#fb9f3a\"],[0.8888888888888888,\"#fdca26\"],[1.0,\"#f0f921\"]]}],\"heatmapgl\":[{\"type\":\"heatmapgl\",\"colorbar\":{\"outlinewidth\":0,\"ticks\":\"\"},\"colorscale\":[[0.0,\"#0d0887\"],[0.1111111111111111,\"#46039f\"],[0.2222222222222222,\"#7201a8\"],[0.3333333333333333,\"#9c179e\"],[0.4444444444444444,\"#bd3786\"],[0.5555555555555556,\"#d8576b\"],[0.6666666666666666,\"#ed7953\"],[0.7777777777777778,\"#fb9f3a\"],[0.8888888888888888,\"#fdca26\"],[1.0,\"#f0f921\"]]}],\"contourcarpet\":[{\"type\":\"contourcarpet\",\"colorbar\":{\"outlinewidth\":0,\"ticks\":\"\"}}],\"contour\":[{\"type\":\"contour\",\"colorbar\":{\"outlinewidth\":0,\"ticks\":\"\"},\"colorscale\":[[0.0,\"#0d0887\"],[0.1111111111111111,\"#46039f\"],[0.2222222222222222,\"#7201a8\"],[0.3333333333333333,\"#9c179e\"],[0.4444444444444444,\"#bd3786\"],[0.5555555555555556,\"#d8576b\"],[0.6666666666666666,\"#ed7953\"],[0.7777777777777778,\"#fb9f3a\"],[0.8888888888888888,\"#fdca26\"],[1.0,\"#f0f921\"]]}],\"surface\":[{\"type\":\"surface\",\"colorbar\":{\"outlinewidth\":0,\"ticks\":\"\"},\"colorscale\":[[0.0,\"#0d0887\"],[0.1111111111111111,\"#46039f\"],[0.2222222222222222,\"#7201a8\"],[0.3333333333333333,\"#9c179e\"],[0.4444444444444444,\"#bd3786\"],[0.5555555555555556,\"#d8576b\"],[0.6666666666666666,\"#ed7953\"],[0.7777777777777778,\"#fb9f3a\"],[0.8888888888888888,\"#fdca26\"],[1.0,\"#f0f921\"]]}],\"mesh3d\":[{\"type\":\"mesh3d\",\"colorbar\":{\"outlinewidth\":0,\"ticks\":\"\"}}],\"scatter\":[{\"fillpattern\":{\"fillmode\":\"overlay\",\"size\":10,\"solidity\":0.2},\"type\":\"scatter\"}],\"parcoords\":[{\"type\":\"parcoords\",\"line\":{\"colorbar\":{\"outlinewidth\":0,\"ticks\":\"\"}}}],\"scatterpolargl\":[{\"type\":\"scatterpolargl\",\"marker\":{\"colorbar\":{\"outlinewidth\":0,\"ticks\":\"\"}}}],\"bar\":[{\"error_x\":{\"color\":\"#2a3f5f\"},\"error_y\":{\"color\":\"#2a3f5f\"},\"marker\":{\"line\":{\"color\":\"#E5ECF6\",\"width\":0.5},\"pattern\":{\"fillmode\":\"overlay\",\"size\":10,\"solidity\":0.2}},\"type\":\"bar\"}],\"scattergeo\":[{\"type\":\"scattergeo\",\"marker\":{\"colorbar\":{\"outlinewidth\":0,\"ticks\":\"\"}}}],\"scatterpolar\":[{\"type\":\"scatterpolar\",\"marker\":{\"colorbar\":{\"outlinewidth\":0,\"ticks\":\"\"}}}],\"histogram\":[{\"marker\":{\"pattern\":{\"fillmode\":\"overlay\",\"size\":10,\"solidity\":0.2}},\"type\":\"histogram\"}],\"scattergl\":[{\"type\":\"scattergl\",\"marker\":{\"colorbar\":{\"outlinewidth\":0,\"ticks\":\"\"}}}],\"scatter3d\":[{\"type\":\"scatter3d\",\"line\":{\"colorbar\":{\"outlinewidth\":0,\"ticks\":\"\"}},\"marker\":{\"colorbar\":{\"outlinewidth\":0,\"ticks\":\"\"}}}],\"scattermapbox\":[{\"type\":\"scattermapbox\",\"marker\":{\"colorbar\":{\"outlinewidth\":0,\"ticks\":\"\"}}}],\"scatterternary\":[{\"type\":\"scatterternary\",\"marker\":{\"colorbar\":{\"outlinewidth\":0,\"ticks\":\"\"}}}],\"scattercarpet\":[{\"type\":\"scattercarpet\",\"marker\":{\"colorbar\":{\"outlinewidth\":0,\"ticks\":\"\"}}}],\"carpet\":[{\"aaxis\":{\"endlinecolor\":\"#2a3f5f\",\"gridcolor\":\"white\",\"linecolor\":\"white\",\"minorgridcolor\":\"white\",\"startlinecolor\":\"#2a3f5f\"},\"baxis\":{\"endlinecolor\":\"#2a3f5f\",\"gridcolor\":\"white\",\"linecolor\":\"white\",\"minorgridcolor\":\"white\",\"startlinecolor\":\"#2a3f5f\"},\"type\":\"carpet\"}],\"table\":[{\"cells\":{\"fill\":{\"color\":\"#EBF0F8\"},\"line\":{\"color\":\"white\"}},\"header\":{\"fill\":{\"color\":\"#C8D4E3\"},\"line\":{\"color\":\"white\"}},\"type\":\"table\"}],\"barpolar\":[{\"marker\":{\"line\":{\"color\":\"#E5ECF6\",\"width\":0.5},\"pattern\":{\"fillmode\":\"overlay\",\"size\":10,\"solidity\":0.2}},\"type\":\"barpolar\"}],\"pie\":[{\"automargin\":true,\"type\":\"pie\"}]},\"layout\":{\"autotypenumbers\":\"strict\",\"colorway\":[\"#636efa\",\"#EF553B\",\"#00cc96\",\"#ab63fa\",\"#FFA15A\",\"#19d3f3\",\"#FF6692\",\"#B6E880\",\"#FF97FF\",\"#FECB52\"],\"font\":{\"color\":\"#2a3f5f\"},\"hovermode\":\"closest\",\"hoverlabel\":{\"align\":\"left\"},\"paper_bgcolor\":\"white\",\"plot_bgcolor\":\"#E5ECF6\",\"polar\":{\"bgcolor\":\"#E5ECF6\",\"angularaxis\":{\"gridcolor\":\"white\",\"linecolor\":\"white\",\"ticks\":\"\"},\"radialaxis\":{\"gridcolor\":\"white\",\"linecolor\":\"white\",\"ticks\":\"\"}},\"ternary\":{\"bgcolor\":\"#E5ECF6\",\"aaxis\":{\"gridcolor\":\"white\",\"linecolor\":\"white\",\"ticks\":\"\"},\"baxis\":{\"gridcolor\":\"white\",\"linecolor\":\"white\",\"ticks\":\"\"},\"caxis\":{\"gridcolor\":\"white\",\"linecolor\":\"white\",\"ticks\":\"\"}},\"coloraxis\":{\"colorbar\":{\"outlinewidth\":0,\"ticks\":\"\"}},\"colorscale\":{\"sequential\":[[0.0,\"#0d0887\"],[0.1111111111111111,\"#46039f\"],[0.2222222222222222,\"#7201a8\"],[0.3333333333333333,\"#9c179e\"],[0.4444444444444444,\"#bd3786\"],[0.5555555555555556,\"#d8576b\"],[0.6666666666666666,\"#ed7953\"],[0.7777777777777778,\"#fb9f3a\"],[0.8888888888888888,\"#fdca26\"],[1.0,\"#f0f921\"]],\"sequentialminus\":[[0.0,\"#0d0887\"],[0.1111111111111111,\"#46039f\"],[0.2222222222222222,\"#7201a8\"],[0.3333333333333333,\"#9c179e\"],[0.4444444444444444,\"#bd3786\"],[0.5555555555555556,\"#d8576b\"],[0.6666666666666666,\"#ed7953\"],[0.7777777777777778,\"#fb9f3a\"],[0.8888888888888888,\"#fdca26\"],[1.0,\"#f0f921\"]],\"diverging\":[[0,\"#8e0152\"],[0.1,\"#c51b7d\"],[0.2,\"#de77ae\"],[0.3,\"#f1b6da\"],[0.4,\"#fde0ef\"],[0.5,\"#f7f7f7\"],[0.6,\"#e6f5d0\"],[0.7,\"#b8e186\"],[0.8,\"#7fbc41\"],[0.9,\"#4d9221\"],[1,\"#276419\"]]},\"xaxis\":{\"gridcolor\":\"white\",\"linecolor\":\"white\",\"ticks\":\"\",\"title\":{\"standoff\":15},\"zerolinecolor\":\"white\",\"automargin\":true,\"zerolinewidth\":2},\"yaxis\":{\"gridcolor\":\"white\",\"linecolor\":\"white\",\"ticks\":\"\",\"title\":{\"standoff\":15},\"zerolinecolor\":\"white\",\"automargin\":true,\"zerolinewidth\":2},\"scene\":{\"xaxis\":{\"backgroundcolor\":\"#E5ECF6\",\"gridcolor\":\"white\",\"linecolor\":\"white\",\"showbackground\":true,\"ticks\":\"\",\"zerolinecolor\":\"white\",\"gridwidth\":2},\"yaxis\":{\"backgroundcolor\":\"#E5ECF6\",\"gridcolor\":\"white\",\"linecolor\":\"white\",\"showbackground\":true,\"ticks\":\"\",\"zerolinecolor\":\"white\",\"gridwidth\":2},\"zaxis\":{\"backgroundcolor\":\"#E5ECF6\",\"gridcolor\":\"white\",\"linecolor\":\"white\",\"showbackground\":true,\"ticks\":\"\",\"zerolinecolor\":\"white\",\"gridwidth\":2}},\"shapedefaults\":{\"line\":{\"color\":\"#2a3f5f\"}},\"annotationdefaults\":{\"arrowcolor\":\"#2a3f5f\",\"arrowhead\":0,\"arrowwidth\":1},\"geo\":{\"bgcolor\":\"white\",\"landcolor\":\"#E5ECF6\",\"subunitcolor\":\"white\",\"showland\":true,\"showlakes\":true,\"lakecolor\":\"white\"},\"title\":{\"x\":0.05},\"mapbox\":{\"style\":\"light\"}}},\"xaxis\":{\"anchor\":\"y\",\"domain\":[0.0,1.0],\"title\":{\"text\":\"Value\"}},\"yaxis\":{\"anchor\":\"x\",\"domain\":[0.0,1.0],\"title\":{\"text\":\"Number of Unique Timestamps\"}},\"updatemenus\":[{\"active\":0,\"buttons\":[{\"args\":[{\"visible\":[true,false,false,false,false,false,false,false,false,false,false,false,false,false,false]},{\"title\":\"Bar Chart for Alan\"}],\"label\":\"Alan\",\"method\":\"update\"},{\"args\":[{\"visible\":[false,true,false,false,false,false,false,false,false,false,false,false,false,false,false]},{\"title\":\"Bar Chart for Cziker\"}],\"label\":\"Cziker\",\"method\":\"update\"},{\"args\":[{\"visible\":[false,false,true,false,false,false,false,false,false,false,false,false,false,false,false]},{\"title\":\"Bar Chart for Dominik\"}],\"label\":\"Dominik\",\"method\":\"update\"},{\"args\":[{\"visible\":[false,false,false,true,false,false,false,false,false,false,false,false,false,false,false]},{\"title\":\"Bar Chart for Emel\"}],\"label\":\"Emel\",\"method\":\"update\"},{\"args\":[{\"visible\":[false,false,false,false,true,false,false,false,false,false,false,false,false,false,false]},{\"title\":\"Bar Chart for Franek\"}],\"label\":\"Franek\",\"method\":\"update\"},{\"args\":[{\"visible\":[false,false,false,false,false,true,false,false,false,false,false,false,false,false,false]},{\"title\":\"Bar Chart for Hawaj\"}],\"label\":\"Hawaj\",\"method\":\"update\"},{\"args\":[{\"visible\":[false,false,false,false,false,false,true,false,false,false,false,false,false,false,false]},{\"title\":\"Bar Chart for Jacek\"}],\"label\":\"Jacek\",\"method\":\"update\"},{\"args\":[{\"visible\":[false,false,false,false,false,false,false,true,false,false,false,false,false,false,false]},{\"title\":\"Bar Chart for Jaszczu\"}],\"label\":\"Jaszczu\",\"method\":\"update\"},{\"args\":[{\"visible\":[false,false,false,false,false,false,false,false,true,false,false,false,false,false,false]},{\"title\":\"Bar Chart for Kajter\"}],\"label\":\"Kajter\",\"method\":\"update\"},{\"args\":[{\"visible\":[false,false,false,false,false,false,false,false,false,true,false,false,false,false,false]},{\"title\":\"Bar Chart for Loczek\"}],\"label\":\"Loczek\",\"method\":\"update\"},{\"args\":[{\"visible\":[false,false,false,false,false,false,false,false,false,false,true,false,false,false,false]},{\"title\":\"Bar Chart for Lori\"}],\"label\":\"Lori\",\"method\":\"update\"},{\"args\":[{\"visible\":[false,false,false,false,false,false,false,false,false,false,false,true,false,false,false]},{\"title\":\"Bar Chart for Skura\"}],\"label\":\"Skura\",\"method\":\"update\"},{\"args\":[{\"visible\":[false,false,false,false,false,false,false,false,false,false,false,false,true,false,false]},{\"title\":\"Bar Chart for Sodek\"}],\"label\":\"Sodek\",\"method\":\"update\"},{\"args\":[{\"visible\":[false,false,false,false,false,false,false,false,false,false,false,false,false,true,false]},{\"title\":\"Bar Chart for Tutajec\"}],\"label\":\"Tutajec\",\"method\":\"update\"},{\"args\":[{\"visible\":[false,false,false,false,false,false,false,false,false,false,false,false,false,false,true]},{\"title\":\"Bar Chart for Xerk\"}],\"label\":\"Xerk\",\"method\":\"update\"}],\"direction\":\"down\",\"pad\":{\"r\":10,\"t\":10},\"showactive\":true,\"x\":0.1,\"xanchor\":\"left\",\"y\":1.15,\"yanchor\":\"top\"}],\"title\":{\"text\":\"Bar Chart for Name A\"}},                        {\"responsive\": true}                    ).then(function(){\n",
       "                            \n",
       "var gd = document.getElementById('be7a1120-9e04-436a-9b97-f75d41235a0a');\n",
       "var x = new MutationObserver(function (mutations, observer) {{\n",
       "        var display = window.getComputedStyle(gd).display;\n",
       "        if (!display || display === 'none') {{\n",
       "            console.log([gd, 'removed!']);\n",
       "            Plotly.purge(gd);\n",
       "            observer.disconnect();\n",
       "        }}\n",
       "}});\n",
       "\n",
       "// Listen for the removal of the full notebook cells\n",
       "var notebookContainer = gd.closest('#notebook-container');\n",
       "if (notebookContainer) {{\n",
       "    x.observe(notebookContainer, {childList: true});\n",
       "}}\n",
       "\n",
       "// Listen for the clearing of the current output cell\n",
       "var outputEl = gd.closest('.output');\n",
       "if (outputEl) {{\n",
       "    x.observe(outputEl, {childList: true});\n",
       "}}\n",
       "\n",
       "                        })                };                });            </script>        </div>"
      ]
     },
     "metadata": {},
     "output_type": "display_data"
    }
   ],
   "source": [
    "fig = make_subplots(1, 1)\n",
    "\n",
    "\n",
    "for name in grouped['Name'].unique():\n",
    "    subset = grouped[grouped['Name'] == name]\n",
    "    fig.add_trace(go.Bar(\n",
    "        x=subset['Value'],\n",
    "        y=subset['Count'],\n",
    "        name=name,\n",
    "        visible= (name == grouped['Name'].unique()[0]) \n",
    "    ))\n",
    "    \n",
    "buttons = []\n",
    "\n",
    "for name in grouped['Name'].unique():\n",
    "    buttons.append(dict(\n",
    "        method='update',\n",
    "        label=name,\n",
    "        args=[{'visible': [name == r.name for r in fig.data]},\n",
    "              {'title': f\"Bar Chart for {name}\"}]\n",
    "    ))\n",
    "    \n",
    "fig.update_layout(\n",
    "    updatemenus=[\n",
    "        dict(\n",
    "            active=0,\n",
    "            buttons=buttons,\n",
    "            direction=\"down\",\n",
    "            pad={\"r\": 10, \"t\": 10},\n",
    "            showactive=True,\n",
    "            x=0.1,\n",
    "            xanchor=\"left\",\n",
    "            y=1.15,\n",
    "            yanchor=\"top\"\n",
    "        ),\n",
    "    ],\n",
    "    title=\"Bar Chart for Name A\",\n",
    "    xaxis_title=\"Value\",\n",
    "    yaxis_title=\"Number of Unique Timestamps\"\n",
    ")\n",
    "\n",
    "fig.show()"
   ]
  }
 ],
 "metadata": {
  "kernelspec": {
   "display_name": "Python 3 (ipykernel)",
   "language": "python",
   "name": "python3"
  },
  "language_info": {
   "codemirror_mode": {
    "name": "ipython",
    "version": 3
   },
   "file_extension": ".py",
   "mimetype": "text/x-python",
   "name": "python",
   "nbconvert_exporter": "python",
   "pygments_lexer": "ipython3",
   "version": "3.11.4"
  }
 },
 "nbformat": 4,
 "nbformat_minor": 5
}
