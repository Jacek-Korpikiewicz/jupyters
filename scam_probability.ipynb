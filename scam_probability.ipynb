{
 "cells": [
  {
   "cell_type": "code",
   "execution_count": 77,
   "id": "c88fe69c",
   "metadata": {},
   "outputs": [],
   "source": [
    "import random\n",
    "\n",
    "deck = {\n",
    "    \"Undying Evil\": 2,\n",
    "    \"Thoughtseize\": 4,\n",
    "    \"Dauthi Voidwalker\": 4,\n",
    "    \"Ragavan, Nimble Pilferer\": 4,\n",
    "    \"Fury\": 4,\n",
    "    \"Blood Crypt\": 4,\n",
    "    \"Bloodstained Mire\": 3,\n",
    "    \"Marsh Flats\": 2,\n",
    "    \"Blood Moon\": 1,\n",
    "    \"Fable of the Mirror-Breaker\": 4,\n",
    "    \"Kroxa, Titan of Death's Hunger\": 1,\n",
    "    \"Grief\": 4,\n",
    "    \"Blackcleave Cliffs\": 3,\n",
    "    \"Orcish Bowmasters\": 4,\n",
    "    \"Not Dead After All\": 4,\n",
    "    \"Fatal Push\": 2,\n",
    "    \"Terminate\": 2,\n",
    "    \"Takenuma, Abandoned Mire\": 1,\n",
    "    \"Verdant Catacombs\": 2,\n",
    "    \"Swamp\": 3,\n",
    "    \"Polluted Delta\": 2\n",
    "}\n",
    "\n",
    "card_colors = {\n",
    "    \"Undying Evil\": \"B\",\n",
    "    \"Thoughtseize\": \"B\",\n",
    "    \"Dauthi Voidwalker\": \"B\",\n",
    "    \"Ragavan, Nimble Pilferer\": \"R\",\n",
    "    \"Fury\": \"R\",\n",
    "    \"Blood Crypt\": \"L\",\n",
    "    \"Bloodstained Mire\": \"L\",\n",
    "    \"Marsh Flats\": \"L\",\n",
    "    \"Blood Moon\": \"R\",\n",
    "    \"Fable of the Mirror-Breaker\": \"R\",\n",
    "    \"Kroxa, Titan of Death's Hunger\": \"RB\",\n",
    "    \"Grief\": \"B\",\n",
    "    \"Blackcleave Cliffs\": \"L\",\n",
    "    \"Orcish Bowmasters\": \"B\",\n",
    "    \"Not Dead After All\": \"B\",\n",
    "    \"Fatal Push\": \"B\",\n",
    "    \"Terminate\": \"RB\",\n",
    "    \"Takenuma, Abandoned Mire\": \"L\",\n",
    "    \"Verdant Catacombs\": \"L\",\n",
    "    \"Swamp\": \"L\",\n",
    "    \"Polluted Delta\": \"L\"\n",
    "}"
   ]
  },
  {
   "cell_type": "code",
   "execution_count": 48,
   "id": "602592cd",
   "metadata": {},
   "outputs": [],
   "source": [
    "def calculate_x_n_terms(x, n):\n",
    "    result = 0\n",
    "    probability_failure = 1\n",
    "    \n",
    "    for _ in range(n):\n",
    "        result += probability_failure * x\n",
    "        probability_failure *= (1 - x) \n",
    "        \n",
    "    return result"
   ]
  },
  {
   "cell_type": "code",
   "execution_count": 45,
   "id": "05d1b92c",
   "metadata": {},
   "outputs": [],
   "source": [
    "def draw_n_cards(deck_dict,n):\n",
    "    cards = list(deck_dict.keys())\n",
    "    probabilities = [count / sum(deck_dict.values()) for count in deck_dict.values()]\n",
    "    drawn_cards = random.choices(cards, weights=probabilities, k=n)\n",
    "    return drawn_cards"
   ]
  },
  {
   "cell_type": "code",
   "execution_count": 70,
   "id": "0007a966",
   "metadata": {},
   "outputs": [],
   "source": [
    "def validate_hand(hand):\n",
    "    has_land = any(card_colors[card] == \"L\" for card in hand)\n",
    "    \n",
    "    spell_cards = [\"Not Dead After All\", \"Undying Evil\"]\n",
    "    num_spells = sum(hand.count(spell) for spell in spell_cards)\n",
    "    has_spell = num_spells > 0\n",
    "    \n",
    "    grief_count = hand.count(\"Grief\")\n",
    "    fury_count = hand.count(\"Fury\")\n",
    "    \n",
    "    black_cards_for_grief = [card for card in hand if \"B\" in card_colors[card] \n",
    "                             and card != \"Grief\"]\n",
    "\n",
    "    if num_spells == 1 and any(spell in hand for spell in spell_cards):\n",
    "        black_cards_for_grief = [card for card in black_cards_for_grief if card not in spell_cards]\n",
    "    has_black_for_grief = len(black_cards_for_grief) + grief_count > grief_count\n",
    "    \n",
    "    red_cards_for_fury = [card for card in hand if \"R\" in card_colors[card]\n",
    "                          and card != \"Fury\"]\n",
    "    has_red_for_fury = len(red_cards_for_fury) + fury_count > fury_count\n",
    "    \n",
    "    return has_land and has_spell and (\n",
    "        (grief_count > 0 and has_black_for_grief) or\n",
    "        (fury_count > 0 and has_red_for_fury)\n",
    "    )\n"
   ]
  },
  {
   "cell_type": "code",
   "execution_count": 79,
   "id": "7363b4a7",
   "metadata": {},
   "outputs": [
    {
     "name": "stdout",
     "output_type": "stream",
     "text": [
      "Probability: 23.46%\n"
     ]
    }
   ],
   "source": [
    "n = 100000\n",
    "successes = sum(validate_hand(draw_n_cards(deck,7)) for _ in range(n))\n",
    "probability = successes / n\n",
    "\n",
    "print(f\"Probability: {probability*100:.2f}%\")"
   ]
  },
  {
   "cell_type": "code",
   "execution_count": 80,
   "id": "60cc2901",
   "metadata": {},
   "outputs": [],
   "source": [
    "PROBABILITIES = []\n",
    "N_TRIES = 10\n",
    "for _ in range(N_TRIES):\n",
    "    successes = sum(validate_hand(draw_n_cards(deck,7)) for _ in range(n))\n",
    "    probability = successes / n\n",
    "    PROBABILITIES.append(probability)"
   ]
  },
  {
   "cell_type": "code",
   "execution_count": 49,
   "id": "7dd3a1c3",
   "metadata": {},
   "outputs": [
    {
     "data": {
      "text/plain": [
       "0.521898297874616"
      ]
     },
     "execution_count": 49,
     "metadata": {},
     "output_type": "execute_result"
    }
   ],
   "source": [
    "calculate_x_n_terms(probability,3)"
   ]
  },
  {
   "cell_type": "code",
   "execution_count": 81,
   "id": "a6f3976d",
   "metadata": {},
   "outputs": [
    {
     "data": {
      "text/plain": [
       "[0.23469,\n",
       " 0.23417,\n",
       " 0.23393,\n",
       " 0.23463,\n",
       " 0.23439,\n",
       " 0.2321,\n",
       " 0.23487,\n",
       " 0.23376,\n",
       " 0.23585,\n",
       " 0.2354]"
      ]
     },
     "execution_count": 81,
     "metadata": {},
     "output_type": "execute_result"
    }
   ],
   "source": [
    "PROBABILITIES"
   ]
  },
  {
   "cell_type": "code",
   "execution_count": 74,
   "id": "1a48c6fb",
   "metadata": {},
   "outputs": [
    {
     "name": "stdout",
     "output_type": "stream",
     "text": [
      "Number of lands: 20\n",
      "Number of red cards: 16\n",
      "Number of black cards: 27\n"
     ]
    }
   ],
   "source": [
    "num_lands = 0\n",
    "num_red_cards = 0\n",
    "num_black_cards = 0\n",
    "\n",
    "for card, count in deck.items():\n",
    "    card_color = card_colors[card]\n",
    "\n",
    "    if \"L\" in card_color:\n",
    "        num_lands += count\n",
    "\n",
    "    if \"R\" in card_color:\n",
    "        num_red_cards += count\n",
    "\n",
    "    if \"B\" in card_color:\n",
    "        num_black_cards += count\n",
    "\n",
    "# Print results\n",
    "print(f\"Number of lands: {num_lands}\")\n",
    "print(f\"Number of red cards: {num_red_cards}\")\n",
    "print(f\"Number of black cards: {num_black_cards}\")"
   ]
  },
  {
   "cell_type": "code",
   "execution_count": 61,
   "id": "138cfc8b",
   "metadata": {},
   "outputs": [],
   "source": []
  }
 ],
 "metadata": {
  "kernelspec": {
   "display_name": "Python 3 (ipykernel)",
   "language": "python",
   "name": "python3"
  },
  "language_info": {
   "codemirror_mode": {
    "name": "ipython",
    "version": 3
   },
   "file_extension": ".py",
   "mimetype": "text/x-python",
   "name": "python",
   "nbconvert_exporter": "python",
   "pygments_lexer": "ipython3",
   "version": "3.11.4"
  }
 },
 "nbformat": 4,
 "nbformat_minor": 5
}
