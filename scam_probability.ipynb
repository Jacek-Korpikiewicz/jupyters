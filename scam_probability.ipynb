{
 "cells": [
  {
   "cell_type": "code",
   "execution_count": 44,
   "id": "2ff97291",
   "metadata": {},
   "outputs": [],
   "source": [
    "import random\n",
    "\n",
    "deck = {\n",
    "    \"Undying Evil\": 2,\n",
    "    \"Thoughtseize\": 4,\n",
    "    \"Dauthi Voidwalker\": 4,\n",
    "    \"Ragavan, Nimble Pilferer\": 4,\n",
    "    \"Fury\": 4,\n",
    "    \"Blood Crypt\": 4,\n",
    "    \"Bloodstained Mire\": 3,\n",
    "    \"Marsh Flats\": 2,\n",
    "    \"Blood Moon\": 1,\n",
    "    \"Fable of the Mirror-Breaker\": 4,\n",
    "    \"Kroxa, Titan of Death's Hunger\": 1,\n",
    "    \"Grief\": 4,\n",
    "    \"Blackcleave Cliffs\": 3,\n",
    "    \"Orcish Bowmasters\": 4,\n",
    "    \"Not Dead After All\": 4,\n",
    "    \"Fatal Push\": 2,\n",
    "    \"Terminate\": 2,\n",
    "    \"Takenuma, Abandoned Mire\": 1,\n",
    "    \"Verdant Catacombs\": 2,\n",
    "    \"Swamp\": 3,\n",
    "    \"Polluted Delta\": 2\n",
    "}\n",
    "\n",
    "card_colors = {\n",
    "    \"Undying Evil\": \"{B}\",\n",
    "    \"Thoughtseize\": \"{B}\",\n",
    "    \"Dauthi Voidwalker\": \"{B}\",\n",
    "    \"Ragavan, Nimble Pilferer\": \"{R}\",\n",
    "    \"Fury\": \"{R}\",\n",
    "    \"Blood Crypt\": \"{L}\",\n",
    "    \"Bloodstained Mire\": \"{L}\",\n",
    "    \"Marsh Flats\": \"{L}\",\n",
    "    \"Blood Moon\": \"{R}\",\n",
    "    \"Fable of the Mirror-Breaker\": \"{B}\",\n",
    "    \"Kroxa, Titan of Death's Hunger\": \"{RB}\",\n",
    "    \"Grief\": \"{B}\",\n",
    "    \"Blackcleave Cliffs\": \"{L}\",\n",
    "    \"Orcish Bowmasters\": \"{B}\",\n",
    "    \"Not Dead After All\": \"{B}\",\n",
    "    \"Fatal Push\": \"{B}\",\n",
    "    \"Terminate\": \"{RB}\",\n",
    "    \"Takenuma, Abandoned Mire\": \"{L}\",\n",
    "    \"Verdant Catacombs\": \"{L}\",\n",
    "    \"Swamp\": \"{L}\",\n",
    "    \"Polluted Delta\": \"{L}\"\n",
    "}"
   ]
  },
  {
   "cell_type": "code",
   "execution_count": 48,
   "id": "a456ce3a",
   "metadata": {},
   "outputs": [],
   "source": [
    "def calculate_x_n_terms(x, n):\n",
    "    result = 0\n",
    "    probability_failure = 1\n",
    "    \n",
    "    for _ in range(n):\n",
    "        result += probability_failure * x\n",
    "        probability_failure *= (1 - x) \n",
    "        \n",
    "    return result"
   ]
  },
  {
   "cell_type": "code",
   "execution_count": 45,
   "id": "df24b83b",
   "metadata": {},
   "outputs": [],
   "source": [
    "def draw_n_cards(deck_dict,n):\n",
    "    cards = list(deck_dict.keys())\n",
    "    probabilities = [count / sum(deck_dict.values()) for count in deck_dict.values()]\n",
    "    drawn_cards = random.choices(cards, weights=probabilities, k=n)\n",
    "    return drawn_cards"
   ]
  },
  {
   "cell_type": "code",
   "execution_count": 46,
   "id": "9d024b95",
   "metadata": {},
   "outputs": [],
   "source": [
    "def validate_hand(hand):\n",
    "    has_land = any(card_colors[card] == \"{L}\" for card in hand)\n",
    "    \n",
    "    spell_cards = [\"Not Dead After All\", \"Undying Evil\"]\n",
    "    num_spells = sum(hand.count(spell) for spell in spell_cards)\n",
    "    has_spell = num_spells > 0\n",
    "    \n",
    "    grief_count = hand.count(\"Grief\")\n",
    "    fury_count = hand.count(\"Fury\")\n",
    "    \n",
    "    black_cards_for_grief = [card for card in hand if (card_colors[card] == \"{B}\" or card_colors[card] == '{RB}') \n",
    "                             and card != \"Grief\"]\n",
    "\n",
    "    if num_spells == 1 and any(spell in hand for spell in spell_cards):\n",
    "        black_cards_for_grief = [card for card in black_cards_for_grief if card not in spell_cards]\n",
    "    has_black_for_grief = len(black_cards_for_grief) + grief_count > grief_count\n",
    "    \n",
    "    red_cards_for_fury = [card for card in hand if (card_colors[card] == \"{R}\" or card_colors[card] == '{RB}') \n",
    "                          and card != \"Fury\"]\n",
    "    has_red_for_fury = len(red_cards_for_fury) + fury_count > fury_count\n",
    "    \n",
    "    return has_land and has_spell and (\n",
    "        (grief_count > 0 and has_black_for_grief) or\n",
    "        (fury_count > 0 and has_red_for_fury)\n",
    "    )\n"
   ]
  },
  {
   "cell_type": "code",
   "execution_count": 53,
   "id": "530b5ade",
   "metadata": {},
   "outputs": [
    {
     "name": "stdout",
     "output_type": "stream",
     "text": [
      "Probability: 21.87%\n"
     ]
    }
   ],
   "source": [
    "n = 100000\n",
    "successes = sum(validate_hand(draw_n_cards(deck,7)) for _ in range(n))\n",
    "probability = successes / n\n",
    "\n",
    "print(f\"Probability: {probability*100:.2f}%\")"
   ]
  },
  {
   "cell_type": "code",
   "execution_count": 49,
   "id": "41b7d77b",
   "metadata": {},
   "outputs": [
    {
     "data": {
      "text/plain": [
       "0.521898297874616"
      ]
     },
     "execution_count": 49,
     "metadata": {},
     "output_type": "execute_result"
    }
   ],
   "source": [
    "calculate_x_n_terms(probability,3)"
   ]
  }
 ],
 "metadata": {
  "kernelspec": {
   "display_name": "Python 3 (ipykernel)",
   "language": "python",
   "name": "python3"
  },
  "language_info": {
   "codemirror_mode": {
    "name": "ipython",
    "version": 3
   },
   "file_extension": ".py",
   "mimetype": "text/x-python",
   "name": "python",
   "nbconvert_exporter": "python",
   "pygments_lexer": "ipython3",
   "version": "3.11.4"
  }
 },
 "nbformat": 4,
 "nbformat_minor": 5
}
